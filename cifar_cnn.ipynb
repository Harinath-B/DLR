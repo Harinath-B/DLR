{
 "cells": [
  {
   "cell_type": "code",
   "execution_count": 18,
   "metadata": {},
   "outputs": [],
   "source": [
    "from trainer import *"
   ]
  },
  {
   "cell_type": "code",
   "execution_count": 19,
   "metadata": {},
   "outputs": [],
   "source": [
    "import torch\n",
    "import torchvision\n",
    "import torchvision.transforms as transforms\n",
    "import matplotlib.pyplot as plt\n",
    "import numpy as np\n",
    "import torch.nn as nn\n",
    "import torch.nn.functional as F\n",
    "import torch.optim as optim\n",
    "import time\n",
    "import random\n",
    "import numpy"
   ]
  },
  {
   "cell_type": "markdown",
   "metadata": {},
   "source": [
    "# Model Def"
   ]
  },
  {
   "cell_type": "code",
   "execution_count": 20,
   "metadata": {},
   "outputs": [],
   "source": [
    "class CNN(nn.Module):\n",
    "    def __init__(self):\n",
    "        super(CNN, self).__init__()\n",
    "        self.conv1 = nn.Conv2d(3, 6, 5)\n",
    "        self.pool = nn.MaxPool2d(2, 2)\n",
    "        self.conv2 = nn.Conv2d(6, 16, 5)\n",
    "        self.fc1 = nn.Linear(16 * 5 * 5, 120)\n",
    "        self.fc2 = nn.Linear(120, 84)\n",
    "        self.fc3 = nn.Linear(84, 10)\n",
    "\n",
    "    def forward(self, x):\n",
    "        x = self.pool(F.relu(self.conv1(x)))\n",
    "        x = self.pool(F.relu(self.conv2(x)))\n",
    "        x = x.view(-1, 16 * 5 * 5)\n",
    "        x = F.relu(self.fc1(x))\n",
    "        x = F.relu(self.fc2(x))\n",
    "        x = self.fc3(x)\n",
    "        return x"
   ]
  },
  {
   "attachments": {},
   "cell_type": "markdown",
   "metadata": {},
   "source": [
    "# Training"
   ]
  },
  {
   "cell_type": "code",
   "execution_count": 21,
   "metadata": {},
   "outputs": [],
   "source": [
    "batch_size = 10"
   ]
  },
  {
   "cell_type": "code",
   "execution_count": 22,
   "metadata": {},
   "outputs": [],
   "source": [
    "transform = transforms.Compose(\n",
    "    [transforms.ToTensor(),\n",
    "     transforms.Normalize((0.5, 0.5, 0.5), (0.5, 0.5, 0.5))]\n",
    ")"
   ]
  },
  {
   "cell_type": "code",
   "execution_count": 23,
   "metadata": {},
   "outputs": [
    {
     "name": "stdout",
     "output_type": "stream",
     "text": [
      "Files already downloaded and verified\n",
      "Files already downloaded and verified\n"
     ]
    }
   ],
   "source": [
    "trainset = torchvision.datasets.CIFAR10(root='./data', train=True,\n",
    "                                        download=True, transform=transform)\n",
    "testset = torchvision.datasets.CIFAR10(root='./data', train=False,\n",
    "                                       download=True, transform=transform)\n",
    "\n",
    "# trainset.data = torch.from_numpy(trainset.data).cuda()\n",
    "# trainset.targets = torch.from_numpy(np.array(trainset.targets)).cuda()\n",
    "\n",
    "trainloader = torch.utils.data.DataLoader(trainset, batch_size=batch_size,\n",
    "                                          shuffle=True, num_workers=0)\n",
    "testloader = torch.utils.data.DataLoader(testset, batch_size=batch_size,\n",
    "                                         shuffle=False, num_workers=0)\n",
    "\n",
    "classes = ('plane', 'car', 'bird', 'cat', 'deer',\n",
    "           'dog', 'frog', 'horse', 'ship', 'truck')"
   ]
  },
  {
   "attachments": {},
   "cell_type": "markdown",
   "metadata": {},
   "source": [
    "## SLR"
   ]
  },
  {
   "cell_type": "code",
   "execution_count": 24,
   "metadata": {},
   "outputs": [],
   "source": [
    "model_s = CNN()\n",
    "model_s = model_s.cuda()"
   ]
  },
  {
   "cell_type": "code",
   "execution_count": 25,
   "metadata": {},
   "outputs": [],
   "source": [
    "criterion = nn.CrossEntropyLoss()\n",
    "optimizer = optim.Adagrad(model_s.parameters(), lr=0.01)"
   ]
  },
  {
   "cell_type": "code",
   "execution_count": 26,
   "metadata": {},
   "outputs": [
    {
     "name": "stdout",
     "output_type": "stream",
     "text": [
      "Epoch: 0\n",
      "Accuracy of the network for this batch: 41.1040 %\n",
      "Epoch: 1\n",
      "Accuracy of the network for this batch: 49.5680 %\n",
      "Epoch: 2\n",
      "Accuracy of the network for this batch: 52.7160 %\n",
      "Epoch: 3\n",
      "Accuracy of the network for this batch: 54.6700 %\n",
      "Epoch: 4\n",
      "Accuracy of the network for this batch: 55.8920 %\n",
      "Epoch: 5\n",
      "Accuracy of the network for this batch: 57.0000 %\n",
      "Epoch: 6\n",
      "Accuracy of the network for this batch: 57.6500 %\n",
      "Epoch: 7\n",
      "Accuracy of the network for this batch: 58.5280 %\n",
      "Epoch: 8\n",
      "Accuracy of the network for this batch: 59.2160 %\n",
      "Epoch: 9\n",
      "Accuracy of the network for this batch: 59.7380 %\n"
     ]
    }
   ],
   "source": [
    "slr_op = train_slr(model_s, trainloader, testloader, criterion, optimizer)"
   ]
  },
  {
   "cell_type": "code",
   "execution_count": 27,
   "metadata": {},
   "outputs": [
    {
     "data": {
      "text/plain": [
       "{'time': 223.08259844779968,\n",
       " 'train_acc': [41.104,\n",
       "  49.568,\n",
       "  52.716,\n",
       "  54.67,\n",
       "  55.892,\n",
       "  57.0,\n",
       "  57.65,\n",
       "  58.528,\n",
       "  59.216,\n",
       "  59.738],\n",
       " 'test_acc': [46.87,\n",
       "  50.16,\n",
       "  52.77,\n",
       "  53.78,\n",
       "  54.68,\n",
       "  55.54,\n",
       "  56.24,\n",
       "  57.26,\n",
       "  57.27,\n",
       "  58.19]}"
      ]
     },
     "execution_count": 27,
     "metadata": {},
     "output_type": "execute_result"
    }
   ],
   "source": [
    "slr_op"
   ]
  },
  {
   "attachments": {},
   "cell_type": "markdown",
   "metadata": {},
   "source": [
    "## DLR"
   ]
  },
  {
   "cell_type": "code",
   "execution_count": 28,
   "metadata": {},
   "outputs": [],
   "source": [
    "model_d = CNN()\n",
    "model_d = model_d.cuda()"
   ]
  },
  {
   "cell_type": "code",
   "execution_count": 29,
   "metadata": {},
   "outputs": [],
   "source": [
    "correct_learning_rate = 0.05\n",
    "cor_lr_change = correct_learning_rate * 0\n",
    "incorrect_learning_rate = 0.01\n",
    "incor_lr_change = incorrect_learning_rate * 0.01"
   ]
  },
  {
   "cell_type": "code",
   "execution_count": 30,
   "metadata": {},
   "outputs": [],
   "source": [
    "params = {'cor_lr': correct_learning_rate, \n",
    "          'cor_lr_change': cor_lr_change, \n",
    "          'incor_lr': incorrect_learning_rate, \n",
    "          'incor_lr_change': incor_lr_change,\n",
    "          'cor_min': 6975,\n",
    "          'cor_max': 7025,\n",
    "          'incor_min': 175,\n",
    "          'incor_max': 225,}"
   ]
  },
  {
   "cell_type": "code",
   "execution_count": 31,
   "metadata": {},
   "outputs": [],
   "source": [
    "criterion = nn.CrossEntropyLoss()\n",
    "optimizer = optim.Adagrad(model_d.parameters(), lr=correct_learning_rate)"
   ]
  },
  {
   "cell_type": "code",
   "execution_count": 32,
   "metadata": {},
   "outputs": [
    {
     "name": "stdout",
     "output_type": "stream",
     "text": [
      "Epoch: 0\n",
      "Accuracy of the network for this batch: 41.3880 %\n",
      "Epoch: 1\n",
      "Accuracy of the network for this batch: 51.9900 %\n",
      "Epoch: 2\n",
      "Accuracy of the network for this batch: 56.2680 %\n",
      "Epoch: 3\n",
      "Accuracy of the network for this batch: 59.3400 %\n",
      "Epoch: 4\n",
      "Accuracy of the network for this batch: 61.6760 %\n",
      "Epoch: 5\n",
      "Accuracy of the network for this batch: 63.3680 %\n",
      "Epoch: 6\n",
      "Accuracy of the network for this batch: 64.8460 %\n",
      "Epoch: 7\n",
      "Accuracy of the network for this batch: 66.1400 %\n",
      "Epoch: 8\n",
      "Accuracy of the network for this batch: 67.3220 %\n",
      "Epoch: 9\n",
      "Accuracy of the network for this batch: 68.3580 %\n"
     ]
    }
   ],
   "source": [
    "dlr_op = train_dlr(model_d, trainloader, testloader, criterion, optimizer, batch_size, params)"
   ]
  },
  {
   "cell_type": "code",
   "execution_count": 33,
   "metadata": {},
   "outputs": [
    {
     "data": {
      "text/plain": [
       "{'time': 209.3898196220398,\n",
       " 'train_acc': [41.388,\n",
       "  51.99,\n",
       "  56.268,\n",
       "  59.34,\n",
       "  61.676,\n",
       "  63.368,\n",
       "  64.846,\n",
       "  66.14,\n",
       "  67.322,\n",
       "  68.358],\n",
       " 'test_acc': [48.11,\n",
       "  53.03,\n",
       "  55.54,\n",
       "  56.74,\n",
       "  58.58,\n",
       "  60.23,\n",
       "  60.29,\n",
       "  60.79,\n",
       "  61.33,\n",
       "  61.3],\n",
       " 'cor_lr': 0.05,\n",
       " 'incor_lr': 0.10800000000000207}"
      ]
     },
     "execution_count": 33,
     "metadata": {},
     "output_type": "execute_result"
    }
   ],
   "source": [
    "dlr_op"
   ]
  },
  {
   "attachments": {},
   "cell_type": "markdown",
   "metadata": {},
   "source": [
    "# Comparison"
   ]
  },
  {
   "cell_type": "code",
   "execution_count": 34,
   "metadata": {},
   "outputs": [
    {
     "data": {
      "text/plain": [
       "<matplotlib.legend.Legend at 0x7f06804c2350>"
      ]
     },
     "execution_count": 34,
     "metadata": {},
     "output_type": "execute_result"
    },
    {
     "data": {
      "image/png": "[encoded data removed]",
      "text/plain": [
       "<Figure size 1500x500 with 2 Axes>"
      ]
     },
     "metadata": {},
     "output_type": "display_data"
    }
   ],
   "source": [
    "epoch_range = range(1, 11)\n",
    "fig, ax = plt.subplots(1, 2, figsize=(15, 5))\n",
    "\n",
    "# plt.figure(211)\n",
    "ax[0].plot(epoch_range, slr_op['train_acc'], label='SLR')\n",
    "ax[0].plot(epoch_range, dlr_op['train_acc'], label='DLR')\n",
    "ax[0].set_title(\"Train Accuracies\")\n",
    "ax[0].legend()\n",
    "# ax[0].show()\n",
    "\n",
    "# plt.figure(212)\n",
    "ax[1].plot(epoch_range, slr_op['test_acc'], label='SLR')\n",
    "ax[1].plot(epoch_range, dlr_op['test_acc'], label='DLR')\n",
    "ax[1].set_title(\"Test Accuracies\")\n",
    "ax[1].legend()\n",
    "# ax[1].show()"
   ]
  },
  {
   "cell_type": "code",
   "execution_count": 35,
   "metadata": {},
   "outputs": [
    {
     "data": {
      "text/plain": [
       "CNN(\n",
       "  (conv1): Conv2d(3, 6, kernel_size=(5, 5), stride=(1, 1))\n",
       "  (pool): MaxPool2d(kernel_size=2, stride=2, padding=0, dilation=1, ceil_mode=False)\n",
       "  (conv2): Conv2d(6, 16, kernel_size=(5, 5), stride=(1, 1))\n",
       "  (fc1): Linear(in_features=400, out_features=120, bias=True)\n",
       "  (fc2): Linear(in_features=120, out_features=84, bias=True)\n",
       "  (fc3): Linear(in_features=84, out_features=10, bias=True)\n",
       ")"
      ]
     },
     "execution_count": 35,
     "metadata": {},
     "output_type": "execute_result"
    }
   ],
   "source": [
    "model_s"
   ]
  },
  {
   "cell_type": "code",
   "execution_count": null,
   "metadata": {},
   "outputs": [],
   "source": []
  }
 ],
 "metadata": {
  "kernelspec": {
   "display_name": "torch-env",
   "language": "python",
   "name": "python3"
  },
  "language_info": {
   "codemirror_mode": {
    "name": "ipython",
    "version": 3
   },
   "file_extension": ".py",
   "mimetype": "text/x-python",
   "name": "python",
   "nbconvert_exporter": "python",
   "pygments_lexer": "ipython3",
   "version": "3.11.3"
  },
  "orig_nbformat": 4
 },
 "nbformat": 4,
 "nbformat_minor": 2
}
