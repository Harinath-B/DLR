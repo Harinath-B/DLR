{
 "cells": [
  {
   "cell_type": "code",
   "execution_count": 31,
   "metadata": {},
   "outputs": [],
   "source": [
    "import torch\n",
    "import torchvision\n",
    "\n",
    "import torch.nn as nn\n",
    "import torch.nn.functional as F\n",
    "import torch.optim as optim\n",
    "from torch.autograd import Variable\n",
    "import torchvision.transforms as transforms\n",
    "import numpy\n",
    "import matplotlib.pyplot as plt"
   ]
  },
  {
   "cell_type": "code",
   "execution_count": 32,
   "metadata": {},
   "outputs": [],
   "source": [
    "from trainer import *"
   ]
  },
  {
   "cell_type": "markdown",
   "metadata": {},
   "source": [
    "# Model Def"
   ]
  },
  {
   "cell_type": "code",
   "execution_count": 33,
   "metadata": {},
   "outputs": [],
   "source": [
    "class Net(nn.Module):\n",
    "    def __init__(self):\n",
    "        super(Net, self).__init__()\n",
    "        self.conv1 = nn.Conv2d(1, 10, kernel_size=5)\n",
    "        self.conv2 = nn.Conv2d(10, 20, kernel_size=5)\n",
    "        self.conv2_drop = nn.Dropout2d()\n",
    "        self.fc1 = nn.Linear(320, 50)\n",
    "        self.fc2 = nn.Linear(50, 10)\n",
    "\n",
    "    def forward(self, x):\n",
    "        x = F.relu(F.max_pool2d(self.conv1(x), 2))\n",
    "        x = F.relu(F.max_pool2d(self.conv2_drop(self.conv2(x)), 2))\n",
    "        x = x.view(-1, 320)\n",
    "        x = F.relu(self.fc1(x))\n",
    "        x = F.dropout(x, training=self.training)\n",
    "        x = self.fc2(x)\n",
    "        return F.log_softmax(x)"
   ]
  },
  {
   "attachments": {},
   "cell_type": "markdown",
   "metadata": {},
   "source": [
    "# Training"
   ]
  },
  {
   "cell_type": "code",
   "execution_count": 34,
   "metadata": {},
   "outputs": [],
   "source": [
    "batch_size_train = 128\n",
    "batch_size_test = 128"
   ]
  },
  {
   "cell_type": "code",
   "execution_count": 35,
   "metadata": {},
   "outputs": [],
   "source": [
    "transform = transforms.Compose(\n",
    "    [transforms.ToTensor(),\n",
    "     transforms.Normalize((0.5, 0.5, 0.5), (0.5, 0.5, 0.5))]\n",
    ")"
   ]
  },
  {
   "cell_type": "code",
   "execution_count": 36,
   "metadata": {},
   "outputs": [],
   "source": [
    "trainloader =  torch.utils.data.DataLoader(\n",
    "    torchvision.datasets.MNIST('./files/', train=True, download=True,\n",
    "        transform=torchvision.transforms.Compose([\n",
    "            torchvision.transforms.ToTensor(),\n",
    "            torchvision.transforms.Normalize(\n",
    "                (0.1307,), (0.3081,))\n",
    "        ])),\n",
    "        batch_size=batch_size_train, shuffle=True)\n",
    "        \n",
    "testloader =  torch.utils.data.DataLoader(\n",
    "    torchvision.datasets.MNIST('./files/', train=False, download=True,\n",
    "        transform=torchvision.transforms.Compose([\n",
    "            torchvision.transforms.ToTensor(),\n",
    "            torchvision.transforms.Normalize(\n",
    "                (0.1307,), (0.3081,))\n",
    "        ])),\n",
    "        batch_size=batch_size_test, shuffle=True)"
   ]
  },
  {
   "cell_type": "markdown",
   "metadata": {},
   "source": [
    "## SVLR"
   ]
  },
  {
   "cell_type": "code",
   "execution_count": 37,
   "metadata": {},
   "outputs": [],
   "source": [
    "network_s = Net().cuda()\n",
    "optimizer = optim.Adagrad(network_s.parameters(), lr=0.017)\n",
    "criterion = F.nll_loss"
   ]
  },
  {
   "cell_type": "code",
   "execution_count": 38,
   "metadata": {},
   "outputs": [
    {
     "name": "stdout",
     "output_type": "stream",
     "text": [
      "Epoch: 0\n"
     ]
    },
    {
     "name": "stderr",
     "output_type": "stream",
     "text": [
      "/tmp/ipykernel_89697/161431047.py:17: UserWarning: Implicit dimension choice for log_softmax has been deprecated. Change the call to include dim=X as an argument.\n",
      "  return F.log_softmax(x)\n"
     ]
    },
    {
     "name": "stdout",
     "output_type": "stream",
     "text": [
      "Accuracy of the network for this batch: 79.9217 %\n",
      "Epoch: 1\n",
      "Accuracy of the network for this batch: 89.5767 %\n",
      "Epoch: 2\n",
      "Accuracy of the network for this batch: 91.0217 %\n",
      "Epoch: 3\n",
      "Accuracy of the network for this batch: 91.9033 %\n",
      "Epoch: 4\n",
      "Accuracy of the network for this batch: 92.7883 %\n",
      "Epoch: 5\n",
      "Accuracy of the network for this batch: 92.9900 %\n",
      "Epoch: 6\n",
      "Accuracy of the network for this batch: 93.3500 %\n",
      "Epoch: 7\n",
      "Accuracy of the network for this batch: 93.5683 %\n",
      "Epoch: 8\n",
      "Accuracy of the network for this batch: 93.6800 %\n",
      "Epoch: 9\n",
      "Accuracy of the network for this batch: 93.9433 %\n"
     ]
    }
   ],
   "source": [
    "slr_op = train_slr(network_s, trainloader, testloader, criterion, optimizer)"
   ]
  },
  {
   "cell_type": "code",
   "execution_count": 39,
   "metadata": {},
   "outputs": [
    {
     "data": {
      "text/plain": [
       "{'time': 139.56522274017334,\n",
       " 'train_acc': [79.92166666666667,\n",
       "  89.57666666666667,\n",
       "  91.02166666666666,\n",
       "  91.90333333333334,\n",
       "  92.78833333333333,\n",
       "  92.99,\n",
       "  93.35,\n",
       "  93.56833333333333,\n",
       "  93.68,\n",
       "  93.94333333333333],\n",
       " 'test_acc': [88.38,\n",
       "  91.15,\n",
       "  92.24,\n",
       "  92.59,\n",
       "  93.15,\n",
       "  93.45,\n",
       "  94.15,\n",
       "  93.99,\n",
       "  93.9,\n",
       "  93.89]}"
      ]
     },
     "execution_count": 39,
     "metadata": {},
     "output_type": "execute_result"
    }
   ],
   "source": [
    "slr_op"
   ]
  },
  {
   "attachments": {},
   "cell_type": "markdown",
   "metadata": {},
   "source": [
    "## DVLR"
   ]
  },
  {
   "cell_type": "code",
   "execution_count": 40,
   "metadata": {},
   "outputs": [],
   "source": [
    "correct_learning_rate = 0.017\n",
    "cor_lr_change = correct_learning_rate * 0.01\n",
    "incorrect_learning_rate = 0.003\n",
    "incor_lr_change = incorrect_learning_rate * 0.01"
   ]
  },
  {
   "cell_type": "code",
   "execution_count": 41,
   "metadata": {},
   "outputs": [],
   "source": [
    "network_d = Net().cuda()\n",
    "optimizer = optim.Adagrad(network_d.parameters(), lr=correct_learning_rate)\n",
    "criterion = F.nll_loss"
   ]
  },
  {
   "cell_type": "code",
   "execution_count": 42,
   "metadata": {},
   "outputs": [],
   "source": [
    "params = {'cor_lr': correct_learning_rate, \n",
    "          'cor_lr_change': cor_lr_change, \n",
    "          'incor_lr': incorrect_learning_rate, \n",
    "          'incor_lr_change': incor_lr_change,\n",
    "          'cor_min': 19995,\n",
    "          'cor_max': 20005,\n",
    "          'incor_min': 1995,\n",
    "          'incor_max': 2005}"
   ]
  },
  {
   "cell_type": "code",
   "execution_count": 43,
   "metadata": {},
   "outputs": [
    {
     "name": "stdout",
     "output_type": "stream",
     "text": [
      "Epoch: 0\n"
     ]
    },
    {
     "name": "stderr",
     "output_type": "stream",
     "text": [
      "/tmp/ipykernel_89697/161431047.py:17: UserWarning: Implicit dimension choice for log_softmax has been deprecated. Change the call to include dim=X as an argument.\n",
      "  return F.log_softmax(x)\n"
     ]
    },
    {
     "name": "stdout",
     "output_type": "stream",
     "text": [
      "Accuracy of the network for this batch: 84.1433 %\n",
      "Epoch: 1\n",
      "Accuracy of the network for this batch: 92.8617 %\n",
      "Epoch: 2\n",
      "Accuracy of the network for this batch: 93.8800 %\n",
      "Epoch: 3\n",
      "Accuracy of the network for this batch: 94.4550 %\n",
      "Epoch: 4\n",
      "Accuracy of the network for this batch: 94.8050 %\n",
      "Epoch: 5\n",
      "Accuracy of the network for this batch: 95.0517 %\n",
      "Epoch: 6\n",
      "Accuracy of the network for this batch: 95.2000 %\n",
      "Epoch: 7\n",
      "Accuracy of the network for this batch: 95.3733 %\n",
      "Epoch: 8\n",
      "Accuracy of the network for this batch: 95.5833 %\n",
      "Epoch: 9\n",
      "Accuracy of the network for this batch: 95.7783 %\n"
     ]
    }
   ],
   "source": [
    "dlr_op = train_dlr(network_d, trainloader, testloader, criterion, optimizer, batch_size_train, params)"
   ]
  },
  {
   "cell_type": "code",
   "execution_count": 44,
   "metadata": {},
   "outputs": [
    {
     "data": {
      "text/plain": [
       "{'time': 139.61774516105652,\n",
       " 'train_acc': [84.14333333333333,\n",
       "  92.86166666666666,\n",
       "  93.88,\n",
       "  94.455,\n",
       "  94.805,\n",
       "  95.05166666666666,\n",
       "  95.2,\n",
       "  95.37333333333333,\n",
       "  95.58333333333333,\n",
       "  95.77833333333334],\n",
       " 'test_acc': [92.14,\n",
       "  93.99,\n",
       "  94.56,\n",
       "  94.82,\n",
       "  95.35,\n",
       "  95.42,\n",
       "  95.24,\n",
       "  95.73,\n",
       "  95.71,\n",
       "  95.68],\n",
       " 'cor_lr': 0.013600000000000001,\n",
       " 'incor_lr': 0.003420000000000001}"
      ]
     },
     "execution_count": 44,
     "metadata": {},
     "output_type": "execute_result"
    }
   ],
   "source": [
    "dlr_op"
   ]
  },
  {
   "attachments": {},
   "cell_type": "markdown",
   "metadata": {},
   "source": [
    "# Comparison"
   ]
  },
  {
   "cell_type": "code",
   "execution_count": 45,
   "metadata": {},
   "outputs": [
    {
     "data": {
      "text/plain": [
       "<matplotlib.legend.Legend at 0x7fb7c0360110>"
      ]
     },
     "execution_count": 45,
     "metadata": {},
     "output_type": "execute_result"
    },
    {
     "data": {
      "image/png": "[encoded data removed]",
      "text/plain": [
       "<Figure size 1500x500 with 2 Axes>"
      ]
     },
     "metadata": {},
     "output_type": "display_data"
    }
   ],
   "source": [
    "epoch_range = range(1, 11)\n",
    "fig, ax = plt.subplots(1, 2, figsize=(15, 5))\n",
    "\n",
    "# plt.figure(211)\n",
    "ax[0].plot(epoch_range, slr_op['train_acc'], label='SLR')\n",
    "ax[0].plot(epoch_range, dlr_op['train_acc'], label='DLR')\n",
    "ax[0].set_title(\"Train Accuracies\")\n",
    "ax[0].legend()\n",
    "# ax[0].show()\n",
    "\n",
    "# plt.figure(212)\n",
    "ax[1].plot(epoch_range, slr_op['test_acc'], label='SLR')\n",
    "ax[1].plot(epoch_range, dlr_op['test_acc'], label='DLR')\n",
    "ax[1].set_title(\"Test Accuracies\")\n",
    "ax[1].legend()\n",
    "# ax[1].show()"
   ]
  },
  {
   "cell_type": "code",
   "execution_count": null,
   "metadata": {},
   "outputs": [],
   "source": []
  }
 ],
 "metadata": {
  "kernelspec": {
   "display_name": "torch-env",
   "language": "python",
   "name": "python3"
  },
  "language_info": {
   "codemirror_mode": {
    "name": "ipython",
    "version": 3
   },
   "file_extension": ".py",
   "mimetype": "text/x-python",
   "name": "python",
   "nbconvert_exporter": "python",
   "pygments_lexer": "ipython3",
   "version": "3.11.3"
  },
  "orig_nbformat": 4
 },
 "nbformat": 4,
 "nbformat_minor": 2
}
